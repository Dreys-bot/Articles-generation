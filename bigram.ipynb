{
 "cells": [
  {
   "cell_type": "code",
   "execution_count": 36,
   "id": "6304d8f5-3868-4ff1-85ff-09ac0839e493",
   "metadata": {},
   "outputs": [
    {
     "name": "stdout",
     "output_type": "stream",
     "text": [
      "cpu\n"
     ]
    }
   ],
   "source": [
    "import torch\n",
    "import torch.nn as nn\n",
    "from torch.nn import functional as F\n",
    "\n",
    "device = 'cuda' if torch.cuda.is_available() else 'cpu'\n",
    "print(device)\n",
    "\n",
    "block_size = 8\n",
    "batch_size = 4  #How many blocks we will do in parallel\n",
    "\n",
    "max_iters = 1000\n",
    "# eval_interval = 2500\n",
    "learning_rate = 3e-4\n",
    "eval_iters = 250"
   ]
  },
  {
   "cell_type": "markdown",
   "id": "f83a5d1e",
   "metadata": {},
   "source": [
    "# Encode and decode text with pytorch"
   ]
  },
  {
   "cell_type": "code",
   "execution_count": 37,
   "id": "679d64a3-a8ae-4677-8e12-da053da1f7bf",
   "metadata": {},
   "outputs": [
    {
     "name": "stdout",
     "output_type": "stream",
     "text": [
      "['\\n', ' ', '!', '\"', '&', \"'\", '(', ')', ',', '-', '.', '0', '1', '2', '3', '4', '5', '6', '7', '8', '9', ':', ';', '?', 'A', 'B', 'C', 'D', 'E', 'F', 'G', 'H', 'I', 'J', 'K', 'L', 'M', 'N', 'O', 'P', 'Q', 'R', 'S', 'T', 'U', 'V', 'W', 'Y', 'Z', 'a', 'b', 'c', 'd', 'e', 'f', 'g', 'h', 'i', 'j', 'k', 'l', 'm', 'n', 'o', 'p', 'q', 'r', 's', 't', 'u', 'v', 'w', 'x', 'y', 'z', '\\ufeff']\n"
     ]
    }
   ],
   "source": [
    "with open ('wizard_of_oz.txt', 'r', encoding='utf-8') as f:\n",
    "    text = f.read()\n",
    "chars = sorted(set(text))\n",
    "print(chars)\n",
    "\n",
    "vocab_size = len(chars)"
   ]
  },
  {
   "cell_type": "code",
   "execution_count": null,
   "id": "8db73e7d-8b12-4bf6-8b0f-1cc647cf8a43",
   "metadata": {},
   "outputs": [],
   "source": []
  },
  {
   "cell_type": "code",
   "execution_count": 38,
   "id": "87ad394e-db95-44d4-8333-cff25fb97475",
   "metadata": {},
   "outputs": [],
   "source": [
    "string_to_int = { ch:i for i,ch in enumerate(chars) }\n",
    "int_to_string = { i:ch for i,ch in enumerate(chars) }\n",
    "encode = lambda s: [string_to_int[c] for c in s]\n",
    "decode = lambda l: ''.join([int_to_string[i] for i in l])"
   ]
  },
  {
   "cell_type": "code",
   "execution_count": 39,
   "id": "7048922a",
   "metadata": {},
   "outputs": [
    {
     "data": {
      "text/plain": [
       "[36, 63, 66, 62, 57, 62, 55]"
      ]
     },
     "execution_count": 39,
     "metadata": {},
     "output_type": "execute_result"
    }
   ],
   "source": [
    "encode(\"Morning\")"
   ]
  },
  {
   "cell_type": "code",
   "execution_count": 40,
   "id": "f96c274d",
   "metadata": {},
   "outputs": [
    {
     "data": {
      "text/plain": [
       "100"
      ]
     },
     "execution_count": 40,
     "metadata": {},
     "output_type": "execute_result"
    }
   ],
   "source": [
    "len(text[:100])"
   ]
  },
  {
   "cell_type": "code",
   "execution_count": 41,
   "id": "c6052cad-6466-4597-9228-7a6d77d14cd6",
   "metadata": {},
   "outputs": [
    {
     "name": "stdout",
     "output_type": "stream",
     "text": [
      "tensor([75, 27, 63, 66, 63, 68, 56, 73,  1, 49, 62, 52,  1, 68, 56, 53,  1, 46,\n",
      "        57, 74, 49, 66, 52,  1, 57, 62,  1, 38, 74,  0,  0,  0,  1,  1, 24,  1,\n",
      "        29, 49, 57, 68, 56, 54, 69, 60,  1, 41, 53, 51, 63, 66, 52,  1, 63, 54,\n",
      "         1, 43, 56, 53, 57, 66,  1, 24, 61, 49, 74, 57, 62, 55,  1, 24, 52, 70,\n",
      "        53, 62, 68, 69, 66, 53, 67,  0,  1,  1,  1,  1, 57, 62,  1, 49, 62,  1,\n",
      "        44, 62, 52, 53, 66, 55, 66, 63, 69, 62])\n"
     ]
    }
   ],
   "source": [
    "data = torch.tensor(encode(text), dtype=torch.long)\n",
    "print(data[:100])"
   ]
  },
  {
   "cell_type": "code",
   "execution_count": 42,
   "id": "1fd136b6-a5f5-486b-97f7-dbd2106ea66c",
   "metadata": {},
   "outputs": [],
   "source": [
    "n = int(0.8 * len(data))\n",
    "train_data = data[:n]\n",
    "val_data = data[:n]"
   ]
  },
  {
   "cell_type": "markdown",
   "id": "14b34d13-e971-47b1-942d-40ef9c1461b8",
   "metadata": {},
   "source": [
    "# Bigram model model\n",
    "\n",
    "It is a type of statistical language model that predicts the probability of a word in a sequence based on the previous word"
   ]
  },
  {
   "cell_type": "code",
   "execution_count": 43,
   "id": "221b2db1-ae64-44cc-b1a9-c4a19a33ec50",
   "metadata": {},
   "outputs": [
    {
     "name": "stdout",
     "output_type": "stream",
     "text": [
      "inputs:\n",
      "tensor([[ 1, 68, 56, 53,  1, 50, 53, 49],\n",
      "        [ 1, 68, 56, 53,  1, 51, 63, 61],\n",
      "        [49, 51, 59,  1, 54, 66, 63, 61],\n",
      "        [ 1, 65, 69, 49, 62, 68, 57, 68]])\n",
      "targets:\n",
      "tensor([[68, 56, 53,  1, 50, 53, 49, 66],\n",
      "        [68, 56, 53,  1, 51, 63, 61, 50],\n",
      "        [51, 59,  1, 54, 66, 63, 61,  1],\n",
      "        [65, 69, 49, 62, 68, 57, 68, 73]])\n"
     ]
    }
   ],
   "source": [
    "n = int(0.8*len(data))\n",
    "train_data = data[:n]\n",
    "val_data = data[n:]\n",
    "\n",
    "def get_batch(split):\n",
    "    data = train_data if split == 'train' else val_data\n",
    "    ix = torch.randint(len(data) - block_size, (batch_size,))\n",
    "    x = torch.stack([data[i:i+block_size] for i in ix])\n",
    "    y = torch.stack([data[i+1:i+block_size+1] for i in ix])\n",
    "    x, y = x.to(device), y.to(device)\n",
    "    return x, y\n",
    "\n",
    "x, y = get_batch('train')\n",
    "print('inputs:')\n",
    "# print(x.shape)\n",
    "print(x)\n",
    "print('targets:')\n",
    "print(y)"
   ]
  },
  {
   "cell_type": "code",
   "execution_count": null,
   "id": "1cf8d283-1e8d-48b5-9334-8f294ac9d42a",
   "metadata": {},
   "outputs": [],
   "source": []
  },
  {
   "cell_type": "code",
   "execution_count": null,
   "id": "7ed9cc7a-9f1b-488a-ac48-99f84fe02935",
   "metadata": {},
   "outputs": [],
   "source": []
  },
  {
   "cell_type": "markdown",
   "id": "eba3be49-a5d7-49a3-9561-f022b893e5f1",
   "metadata": {},
   "source": [
    "## Initialize Bigram model"
   ]
  },
  {
   "cell_type": "markdown",
   "id": "82bb5a70-d2b6-436a-9ee8-77a098e8bf31",
   "metadata": {},
   "source": [
    "### Model conception\n",
    "\n",
    "#### Functions\n",
    "\n",
    "- **forward()**: It is used to understand the underlying operations of our model. You get to see how the input data is transformed step by step through the layers of the network until it putputs the results. She deine operations when passing input data to the model. In this cas, we take an idex as input  corresponding to the tokens of a sentence and his target. We return the predicted logits for each token and the loss is the targets are done.\n",
    "- "
   ]
  },
  {
   "cell_type": "code",
   "execution_count": 44,
   "id": "14aecf23-d9c6-42ac-9a62-dae0f1f6943b",
   "metadata": {},
   "outputs": [
    {
     "name": "stdout",
     "output_type": "stream",
     "text": [
      "\n",
      "l8bqNlcxHBqP﻿,HFbH;:u!LVj0t?7STDB!Op?KD:Fg8l5S.jKxEH5SoSarbc-;pT)vESj4D2J8ERa-8Sky6h\n",
      "YKZpGi)WhT\"&Db-.whAw.c3a\"t15UmGz5C7TSutK: Kd72rAnt;CyWt)Vea&.7,R(c8t;zVwYf?\"t\n",
      "m-Y:y4n(H!xgF﻿ZW2q(F'QjqKK7SShKCRRe\"tFuhAH?THg﻿l4:;Os:IFmm5&OU:uC50g07mg:qpGh&GDAqrhbdE)﻿sFw'Q9K7B﻿JCk&jp&h:iM602Y00(Y-KWggPJyR;x.:GzastvyiB﻿:;!iD-88\n",
      "Iqm6yPaqvH?zJC8lV2dsWdshp﻿F'5gPps9\"2psDCnAapRd4aky﻿mWC76\"iTdNZbWdP0f.hj0( A:d!S2s9,pT,tIC77VFQzd;eaY4LK:0KuDT46LSzfQ)\"ZlJ(4LLgS2qanoZhp'q2rU07JCQzVtv)lw﻿jNQJ0k)W(?,h ,f!yU&rJ9Cp)WjGI﻿eYU&\n"
     ]
    }
   ],
   "source": [
    "class BigramLanguageModel(nn.Module):\n",
    "    def __init__(self, vocab_size):\n",
    "        super().__init__()\n",
    "        self.token_embedding_table = nn.Embedding(vocab_size, vocab_size)\n",
    "\n",
    "    def forward(self, index, targets=None):\n",
    "        logits = self.token_embedding_table(index)\n",
    "        \n",
    "        \n",
    "        if targets is None:\n",
    "            loss = None\n",
    "        else:\n",
    "            B, T, C = logits.shape\n",
    "            logits = logits.view(B*T, C)\n",
    "            targets = targets.view(B*T)\n",
    "            loss = F.cross_entropy(logits, targets)\n",
    "        \n",
    "        return logits, loss\n",
    "\n",
    "    def generate(self, index, max_new_tokens):\n",
    "        # index is (B, T) array of indices in the current context\n",
    "        for _ in range(max_new_tokens):\n",
    "            # get the predictions\n",
    "            logits, loss = self.forward(index)\n",
    "            # focus only on the last time step\n",
    "            logits = logits[:, -1, :] # becomes (B, C)\n",
    "            # apply softmax to get probabilities\n",
    "            probs = F.softmax(logits, dim=-1) # (B, C)\n",
    "            # sample from the distribution\n",
    "            index_next = torch.multinomial(probs, num_samples=1) # (B, 1)\n",
    "            # append sampled index to the running sequence\n",
    "            index = torch.cat((index, index_next), dim=1) # (B, T+1)\n",
    "        return index\n",
    "\n",
    "model = BigramLanguageModel(vocab_size)\n",
    "m = model.to(device)\n",
    "\n",
    "context = torch.zeros((1,1), dtype=torch.long, device=device)\n",
    "generated_chars = decode(m.generate(context, max_new_tokens=500)[0].tolist())\n",
    "print(generated_chars)\n"
   ]
  },
  {
   "cell_type": "code",
   "execution_count": 45,
   "id": "e4b4a2dc-60f2-4747-886e-f48d70614f1e",
   "metadata": {},
   "outputs": [],
   "source": [
    "@torch.no_grad()\n",
    "def estimate_loss():\n",
    "    out = {}\n",
    "    model.eval()\n",
    "    for split in ['train', 'val']:\n",
    "        losses = torch.zeros(eval_iters)\n",
    "        for k in range(eval_iters):\n",
    "            X, Y = get_batch(split)\n",
    "            logits, loss = model(X, Y)\n",
    "            losses[k] = loss.item()\n",
    "        out[split] = losses.mean()\n",
    "    model.train()\n",
    "    return out"
   ]
  },
  {
   "cell_type": "code",
   "execution_count": 46,
   "id": "0cfcb9b6-fdf3-4404-8e70-71f030cba56c",
   "metadata": {},
   "outputs": [
    {
     "data": {
      "text/plain": [
       "{'train': tensor(4.9559), 'val': tensor(4.9588)}"
      ]
     },
     "execution_count": 46,
     "metadata": {},
     "output_type": "execute_result"
    }
   ],
   "source": [
    "estimate_loss()"
   ]
  },
  {
   "cell_type": "code",
   "execution_count": 47,
   "id": "f26860e2-049a-492f-877c-1348ce7cda8b",
   "metadata": {},
   "outputs": [
    {
     "name": "stdout",
     "output_type": "stream",
     "text": [
      "step: 0, train loss: 4.968, val loss: 4.986\n",
      "step: 250, train loss: 4.900, val loss: 4.918\n",
      "step: 500, train loss: 4.837, val loss: 4.841\n",
      "step: 750, train loss: 4.778, val loss: 4.790\n",
      "4.527280807495117\n"
     ]
    }
   ],
   "source": [
    "# create a PyTorch optimizer\n",
    "optimizer = torch.optim.AdamW(model.parameters(), lr=learning_rate)\n",
    "\n",
    "for iter in range(max_iters):\n",
    "    if iter % eval_iters == 0:\n",
    "        losses = estimate_loss()\n",
    "        print(f\"step: {iter}, train loss: {losses['train']:.3f}, val loss: {losses['val']:.3f}\")\n",
    "\n",
    "    # sample a batch of data\n",
    "    xb, yb = get_batch('train')\n",
    "\n",
    "    # evaluate the loss\n",
    "    logits, loss = model.forward(xb, yb)\n",
    "    optimizer.zero_grad(set_to_none=True)\n",
    "    loss.backward()\n",
    "    optimizer.step()\n",
    "print(loss.item())"
   ]
  },
  {
   "cell_type": "markdown",
   "id": "729d0dfd-8482-4074-b97c-96490830cb4b",
   "metadata": {},
   "source": [
    "### Optimizers\n",
    "\n",
    "1. ***Mean Squared Error (MSE)***: MSE is a common loss function used in regression problems, where the goal is to predict a continuous output. It measures the average squared difference between the predicted and actual values, and is often used to train neural networks for regression tasks.\n",
    "2. ***Gradient Descent (GD)***: is an optimization algorithm used to minimize the loss function of a machine learning model. The loss function measures how well the model is able to predict the target variable based on the input features. The idea of GD is to iteratively adjust the model parameters in the direction of the steepest descent of the loss function\n",
    "3. ***Momentum***: Momentum is an extension of SGD that adds a \"momentum\" term to the parameter updates. This term helps smooth out the updates and allows the optimizer to continue moving in the right direction, even if the gradient changes direction or varies in magnitude. Momentum is particularly useful for training deep neural networks.\n",
    "4. ***RMSprop***: RMSprop is an optimization algorithm that uses a moving average of the squared gradient to adapt the learning rate of each parameter. This helps to avoid oscillations in the parameter updates and can improve convergence in some cases.\n",
    "5. ***Adam***: Adam is a popular optimization algorithm that combines the ideas of momentum and RMSprop. It uses a moving average of both the gradient and its squared value to adapt the learning rate of each parameter. Adam is often used as a default optimizer for deep learning models.\n",
    "6. ***AdamW***: AdamW is a modification of the Adam optimizer that adds weight decay to the parameter updates. This helps to regularize the model and can improve generalization performance. We will be using the AdamW optimizer as it best suits the properties of the model we will train in this video."
   ]
  },
  {
   "cell_type": "code",
   "execution_count": 48,
   "id": "bc868d6c-e2ab-4124-9084-6a14b4710581",
   "metadata": {},
   "outputs": [
    {
     "name": "stdout",
     "output_type": "stream",
     "text": [
      "\n",
      "T.Wrlr(TTJuVkA'u?gSa3Fy5SU)K\"W3\"IErbHLY9rp﻿(OmagmLqe\"B4um\"tU4d4f)L\n",
      "nt5lVJ3Zh88na\n",
      "d6aM&mJ,pI(mMErJv,f5 kyGhTjNV?) PJy﻿\n",
      ".;8RS&!vPLMLsp'dWdIFa?c.wfz6pl02qc7nhSJ&QQYi !SFBLsJut;bbH!J)ZpqAaAE.j.V5VTwz\n",
      "Zqu15\n",
      "LyA9jogsgSap-lM6kH60O\"t2rZCx?&Ti﻿k-D Ky;H?4eY9))!SY7mSk2IM9D﻿oyH!8RdKZMR\"IkeaCRdSaYiU&U&fC',I7bx.hTFfk2Il?Br03CyBsTFL\n",
      "M2IgvTKBQNI3sdg-:iM6A(,!S8RG)bR\n",
      "-gS-7E6\n",
      "Jd5,9sST-gDAtsACbt)!7P﻿d00gSC39AcRZ,'lSOD(F-8Rk'qKS150gOC88R;(mR8g9Sk?vTM6OzqPnPeama4B2&Ui3pG&Wplw'j14﻿x6osb0dYoNQalBLs\n",
      "\"'G?\"PLV9L\n",
      ",YdSah777\n"
     ]
    }
   ],
   "source": [
    "context = torch.zeros((1,1), dtype=torch.long, device=device)\n",
    "generated_chars = decode(m.generate(context, max_new_tokens=500)[0].tolist())\n",
    "print(generated_chars)"
   ]
  },
  {
   "cell_type": "code",
   "execution_count": 30,
   "id": "4ba43534",
   "metadata": {},
   "outputs": [
    {
     "name": "stdout",
     "output_type": "stream",
     "text": [
      "when inout is tensor([75]) traget is tensor(27)\n",
      "when inout is tensor([75, 27]) traget is tensor(63)\n",
      "when inout is tensor([75, 27, 63]) traget is tensor(66)\n",
      "when inout is tensor([75, 27, 63, 66]) traget is tensor(63)\n",
      "when inout is tensor([75, 27, 63, 66, 63]) traget is tensor(68)\n",
      "when inout is tensor([75, 27, 63, 66, 63, 68]) traget is tensor(56)\n",
      "when inout is tensor([75, 27, 63, 66, 63, 68, 56]) traget is tensor(73)\n",
      "when inout is tensor([75, 27, 63, 66, 63, 68, 56, 73]) traget is tensor(1)\n"
     ]
    }
   ],
   "source": [
    "\n",
    "\n",
    "x =  train_data[:block_size]\n",
    "y = train_data[1:block_size+1]\n",
    "\n",
    "for t in range(block_size):\n",
    "    context = x[:t+1]\n",
    "    target = y[t]\n",
    "    print(\"when inout is\", context, 'traget is', target)\n"
   ]
  },
  {
   "cell_type": "code",
   "execution_count": null,
   "id": "1605ff90",
   "metadata": {},
   "outputs": [],
   "source": []
  },
  {
   "cell_type": "code",
   "execution_count": null,
   "id": "9a3d7c04-7e80-4db5-a26d-4704f7fb49a5",
   "metadata": {},
   "outputs": [],
   "source": []
  },
  {
   "cell_type": "code",
   "execution_count": null,
   "id": "47437357-4881-415b-8ad6-1dfcf769681a",
   "metadata": {},
   "outputs": [],
   "source": [
    "We are goind to state of the art language model and how wa can build them from strach and pre-train them"
   ]
  }
 ],
 "metadata": {
  "kernelspec": {
   "display_name": "cuda-gpt",
   "language": "python",
   "name": "cuda"
  },
  "language_info": {
   "codemirror_mode": {
    "name": "ipython",
    "version": 3
   },
   "file_extension": ".py",
   "mimetype": "text/x-python",
   "name": "python",
   "nbconvert_exporter": "python",
   "pygments_lexer": "ipython3",
   "version": "3.11.3"
  }
 },
 "nbformat": 4,
 "nbformat_minor": 5
}
